{
 "cells": [
  {
   "cell_type": "code",
   "execution_count": 3,
   "id": "1bd210c8",
   "metadata": {},
   "outputs": [
    {
     "name": "stdout",
     "output_type": "stream",
     "text": [
      "Python 3.11.5\n"
     ]
    }
   ],
   "source": [
    "!python --version"
   ]
  },
  {
   "cell_type": "markdown",
   "id": "d485a160",
   "metadata": {},
   "source": [
    "this python version is not stable "
   ]
  },
  {
   "cell_type": "code",
   "execution_count": null,
   "id": "cd444e04",
   "metadata": {},
   "outputs": [],
   "source": [
    "x = 5"
   ]
  },
  {
   "cell_type": "code",
   "execution_count": 1,
   "id": "1ddb19cf",
   "metadata": {},
   "outputs": [
    {
     "ename": "NameError",
     "evalue": "name 'x' is not defined",
     "output_type": "error",
     "traceback": [
      "\u001b[1;31m---------------------------------------------------------------------------\u001b[0m",
      "\u001b[1;31mNameError\u001b[0m                                 Traceback (most recent call last)",
      "Cell \u001b[1;32mIn[1], line 1\u001b[0m\n\u001b[1;32m----> 1\u001b[0m \u001b[38;5;28mprint\u001b[39m(x)\n",
      "\u001b[1;31mNameError\u001b[0m: name 'x' is not defined"
     ]
    }
   ],
   "source": [
    "print(x)"
   ]
  },
  {
   "cell_type": "code",
   "execution_count": null,
   "id": "2ca14c81",
   "metadata": {},
   "outputs": [],
   "source": [
    "x= 5\n",
    "print(X)"
   ]
  },
  {
   "cell_type": "markdown",
   "id": "9d5d5ddf",
   "metadata": {},
   "source": [
    "# Welcome DEPI R2\n",
    "\n",
    "## Alex Group\n",
    "\n",
    "**IBM DS**\n",
    "\n",
    "*Course*\n",
    "\n",
    "by \n",
    "\n",
    "- Session 1\n",
    "    - Tools \n",
    "        - Sql\n",
    "        \n",
    "We found that average of the company is 53.2 $\n",
    "\n",
    "so we can deduce the expenses "
   ]
  },
  {
   "cell_type": "markdown",
   "id": "b20be372",
   "metadata": {},
   "source": [
    "# **Welcome DEPI Round 2**\n",
    "\n",
    "## Alex Group\n",
    "**IBM Data Science**\n",
    "\n",
    "By Mahmoud Khorshed\n",
    "\n",
    "- Week 1\n",
    "    - Week 2  \n",
    "    \n",
    "✔    "
   ]
  },
  {
   "cell_type": "code",
   "execution_count": null,
   "id": "2e97c01b",
   "metadata": {},
   "outputs": [],
   "source": []
  }
 ],
 "metadata": {
  "kernelspec": {
   "display_name": "Python 3 (ipykernel)",
   "language": "python",
   "name": "python3"
  },
  "language_info": {
   "codemirror_mode": {
    "name": "ipython",
    "version": 3
   },
   "file_extension": ".py",
   "mimetype": "text/x-python",
   "name": "python",
   "nbconvert_exporter": "python",
   "pygments_lexer": "ipython3",
   "version": "3.11.5"
  }
 },
 "nbformat": 4,
 "nbformat_minor": 5
}
